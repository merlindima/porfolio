{
 "cells": [
  {
   "cell_type": "code",
   "execution_count": 15,
   "metadata": {},
   "outputs": [
    {
     "name": "stdout",
     "output_type": "stream",
     "text": [
      "[-1, -2]\n",
      "[]\n"
     ]
    },
    {
     "data": {
      "text/plain": [
       "1"
      ]
     },
     "execution_count": 15,
     "metadata": {},
     "output_type": "execute_result"
    }
   ],
   "source": [
    "A = [-1,-2]\n",
    "\n",
    "def solution(A):\n",
    "    \n",
    "\n",
    "    \n",
    "    A = list(dict.fromkeys(A))\n",
    "    ##print(A)\n",
    "    \n",
    "    A = [x for x in A if x > 0]\n",
    "    ##print(A)\n",
    "    \n",
    "    if(A == []):\n",
    "        return 1\n",
    "    \n",
    "    minim = min(A)\n",
    "    maxim = max(A)\n",
    "\n",
    "    \n",
    "    if(minim > 1):\n",
    "        return 1\n",
    "    \n",
    "    \n",
    "    A.sort()\n",
    "    \n",
    "    ##print(A)\n",
    "    \n",
    "    for i in range(len(A)-1):\n",
    "        if (A[i]+1) != A[i+1]:\n",
    "            return (A[i]+1)\n",
    "    else:\n",
    "        return maxim + 1\n",
    "    \n",
    "    \n",
    "\n",
    "solution(A)"
   ]
  },
  {
   "cell_type": "code",
   "execution_count": null,
   "metadata": {},
   "outputs": [],
   "source": []
  }
 ],
 "metadata": {
  "kernelspec": {
   "display_name": "Python 3",
   "language": "python",
   "name": "python3"
  },
  "language_info": {
   "codemirror_mode": {
    "name": "ipython",
    "version": 3
   },
   "file_extension": ".py",
   "mimetype": "text/x-python",
   "name": "python",
   "nbconvert_exporter": "python",
   "pygments_lexer": "ipython3",
   "version": "3.7.7"
  }
 },
 "nbformat": 4,
 "nbformat_minor": 4
}
