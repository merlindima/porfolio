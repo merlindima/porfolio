{
 "cells": [
  {
   "cell_type": "markdown",
   "metadata": {},
   "source": [
    "# Codewars.com notebook\n",
    "\n",
    "Profile https://www.codewars.com/users/merlindima"
   ]
  },
  {
   "cell_type": "markdown",
   "metadata": {},
   "source": [
    "### \"com\", \"gov\", \"org\" first problem\n",
    "\n",
    "## Problem outline\n",
    "\n",
    "Write a code that orders collection of Uris based on it's domain next way that it will returns fisrt Uris with domain \"com\", \"gov\", \"org\" (in alphabetical order of their domains) and then all other Uris ordered in alphabetical order of their domains In addition to that content of Uri should not be changed,\n",
    "other part of Uri doesn't affect sorting. (uris \"c.com\",\"b.com\",\"a.com\" can be placed in any order inside their group, so both \"c.com\",\"b.com\",\"a.com\" and \"a.com\",\"c.com\",\"b.com\" are correct, till they are stand before *.org)\n",
    "\n",
    "Link to problem page:\n",
    "https://www.codewars.com/kata/57f21fcd69e09cb0d2000088"
   ]
  },
  {
   "cell_type": "code",
   "execution_count": 45,
   "metadata": {},
   "outputs": [
    {
     "name": "stdout",
     "output_type": "stream",
     "text": [
      "['http://www.google.com/?x=jsdfkj', 'http://www.google.gov/?x=jsdfkj', 'http://www.google.org/?x=jsdfkj', 'http://www.google.de/?x=jsdfkj', 'http://www.google.en/?x=jsdfkj']\n"
     ]
    }
   ],
   "source": [
    "input_list = [\n",
    "    \"http://www.google.en/?x=jsdfkj\",\n",
    "    \"http://www.google.de/?x=jsdfkj\",\n",
    "    \"http://www.google.com/?x=jsdfkj\",\n",
    "    \"http://www.google.org/?x=jsdfkj\",\n",
    "    \"http://www.google.gov/?x=jsdfkj\",\n",
    "]\n",
    "\n",
    "expected = [\n",
    "    \"http://www.google.com/?x=jsdfkj\",\n",
    "    \"http://www.google.gov/?x=jsdfkj\",\n",
    "    \"http://www.google.org/?x=jsdfkj\",\n",
    "    \"http://www.google.de/?x=jsdfkj\",\n",
    "    \"http://www.google.en/?x=jsdfkj\",\n",
    "]\n",
    "\n",
    "def order_by_domain(addresses):\n",
    "    temp_com = []\n",
    "    temp_org = []\n",
    "    temp_gov = []\n",
    "    #print(addresses)\n",
    "    \n",
    "    for x in addresses:\n",
    "        test = ['.com', '.org', '.gov']\n",
    "        if any(subs in x for subs in test):\n",
    "            if '.gov' in x:\n",
    "                temp_gov.append(x)\n",
    "            if '.com' in x:\n",
    "                temp_com.append(x)\n",
    "            if '.org' in x:\n",
    "                temp_org.append(x)\n",
    "                \n",
    "               \n",
    "    \n",
    "    \n",
    "    #print(temp_gov)\n",
    "    #print(temp_com)\n",
    "    \n",
    "    temp_org.sort(key = lambda x: x.split('.')[-1])\n",
    "    temp_gov.sort(key = lambda x: x.split('.')[-1])\n",
    "    temp_com.sort(key = lambda x: x.split('.')[-1])\n",
    "    \n",
    "    temp = temp_com + temp_gov + temp_org\n",
    "    \n",
    "    addresses = [x for x in addresses if not x in temp]\n",
    "    \n",
    "    addresses.sort(key = lambda x: x.split('.')[-1])\n",
    "    \n",
    "    addresses = temp + addresses\n",
    "    \n",
    "    return addresses\n",
    "\n",
    "\n",
    "print(order_by_domain(input_list))"
   ]
  }
 ],
 "metadata": {
  "kernelspec": {
   "display_name": "Python 3",
   "language": "python",
   "name": "python3"
  },
  "language_info": {
   "codemirror_mode": {
    "name": "ipython",
    "version": 3
   },
   "file_extension": ".py",
   "mimetype": "text/x-python",
   "name": "python",
   "nbconvert_exporter": "python",
   "pygments_lexer": "ipython3",
   "version": "3.7.7"
  }
 },
 "nbformat": 4,
 "nbformat_minor": 4
}
