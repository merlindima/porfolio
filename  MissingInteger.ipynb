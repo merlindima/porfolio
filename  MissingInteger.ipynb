{
 "cells": [
  {
   "cell_type": "markdown",
   "metadata": {},
   "source": [
    "## Missing Integer Problem\n",
    "### Codility Problem\n",
    "\n",
    "Find the smallest positive integer that does not occur in a given sequence\n",
    "\n",
    "given an array A of N integers, returns the smallest positive integer (greater than 0) that does not occur in A.\n",
    "\n",
    "For example, given A = [1, 3, 6, 4, 1, 2], the function should return 5.\n",
    "\n",
    "Given A = [1, 2, 3], the function should return 4.\n",
    "\n",
    "Given A = [−1, −3], the function should return 1.\n",
    "\n",
    "Write an efficient algorithm for the following assumptions:\n",
    "\n",
    "N is an integer within the range [1..100,000];\n",
    "each element of array A is an integer within the range [−1,000,000..1,000,000].\n",
    "\n",
    "Analysis of problem gives detcted time complexity:\n",
    "O(N) or O(N * log(N))\n"
   ]
  },
  {
   "cell_type": "code",
   "execution_count": 18,
   "metadata": {},
   "outputs": [
    {
     "data": {
      "text/plain": [
       "4"
      ]
     },
     "execution_count": 18,
     "metadata": {},
     "output_type": "execute_result"
    }
   ],
   "source": [
    "A = [-1,-2]\n",
    "B = [1,2,3,5]\n",
    "\n",
    "def solution(A):\n",
    "    \n",
    "    ## Removes duplicates from list\n",
    "    A = list(dict.fromkeys(A))\n",
    "    ##print(A)\n",
    "    \n",
    "    ## Removes all negative numbers and 0 from list\n",
    "    A = [x for x in A if x > 0]\n",
    "    ##print(A)\n",
    "    \n",
    "    ## If list is empty returns 1\n",
    "    if(A == []):\n",
    "        return 1\n",
    "    \n",
    "    ## Defines max and min of list\n",
    "    minim = min(A)\n",
    "    maxim = max(A)\n",
    "\n",
    "    ## If minimum number is greater than 1 then returns 1\n",
    "    if(minim > 1):\n",
    "        return 1\n",
    "    \n",
    "    ## Sorts list so as to iterate over list\n",
    "    A.sort()\n",
    "    \n",
    "    ##print(A)\n",
    "    \n",
    "    ## Iterates over list checking subsiquent values if all are subsiquent adds 1 to maximum number and returns\n",
    "    for i in range(len(A)-1):\n",
    "        if (A[i]+1) != A[i+1]:\n",
    "            return (A[i]+1)\n",
    "    else:\n",
    "        return maxim + 1\n",
    "    \n",
    "    \n",
    "\n",
    "##solution(A)\n",
    "##solution(B)"
   ]
  },
  {
   "cell_type": "code",
   "execution_count": null,
   "metadata": {},
   "outputs": [],
   "source": []
  }
 ],
 "metadata": {
  "kernelspec": {
   "display_name": "Python 3",
   "language": "python",
   "name": "python3"
  },
  "language_info": {
   "codemirror_mode": {
    "name": "ipython",
    "version": 3
   },
   "file_extension": ".py",
   "mimetype": "text/x-python",
   "name": "python",
   "nbconvert_exporter": "python",
   "pygments_lexer": "ipython3",
   "version": "3.7.7"
  }
 },
 "nbformat": 4,
 "nbformat_minor": 4
}
