{
 "cells": [
  {
   "cell_type": "markdown",
   "metadata": {},
   "source": [
    "## Medium Tasks\n",
    "For Credit Suisse Global Coding Challenges\n",
    "<br>\n",
    "\n",
    "### Question 4\n",
    "Whenever a company trades securities, there are various risks involved with the trade. Risk analysis is done for each trade in order to make the maximum profit from that trade. Each available trade can have the following properties:  \n",
    "\n",
    "Probability that the trade will make a profit (p).  \n",
    "Probability that the trade will make a loss (1-p).  \n",
    "Potential profit of the trade (x).  \n",
    "Potential loss of the trade (y).  \n",
    "Find and print the maximum expected amount of money the company can make by performing at most m of the n trades, given the values of m, n, x, y and p.  \n",
    "\n",
    "<b> Developer Comments </b>  \n",
    "Achieves 84/90 in testing suite, I think that it may not achieve 100% due to me implementing a quick fix for fliping the priority queue using \"-\"  \n",
    "Either this or I have made a rounding error somewhere"
   ]
  },
  {
   "cell_type": "code",
   "execution_count": 41,
   "metadata": {},
   "outputs": [
    {
     "data": {
      "text/plain": [
       "'1.50'"
      ]
     },
     "execution_count": 41,
     "metadata": {},
     "output_type": "execute_result"
    }
   ],
   "source": [
    "from queue import PriorityQueue\n",
    "\n",
    "total_trades = 4\n",
    "max_tran = 2\n",
    "probability_profit = [0.5, 0.5, 0.5, 0.5]\n",
    "potential_profit = [4.00, 1.00, 2.00, 3.00]\n",
    "potential_loss = [4.00, 0.50, 1.00, 1.00]\n",
    "\n",
    "def calc_exp_profit(probability, profit, loss):\n",
    "    return ((probability*profit)-((1-probability)*loss)) \n",
    "\n",
    "def maximumExpectedMoney(noOfTradesAvailable, maximumTradesAllowed,p,x,y):\n",
    "    queue = PriorityQueue()\n",
    "    output = 0\n",
    "    for i in range(noOfTradesAvailable):\n",
    "        profit = (calc_exp_profit(p[i],x[i],y[i]))\n",
    "        #print(profit)\n",
    "        queue.put(-profit) # forces pqueue to add largest to front instead of smallest\n",
    "        #print(queue)\n",
    "    \n",
    "    for i in range(maximumTradesAllowed):\n",
    "        temp = -queue.get()\n",
    "        # prevents any nono profit trades from occuring\n",
    "        if temp > 0: \n",
    "            output += temp \n",
    "    \n",
    "    output = round(output, 2)\n",
    "    output = '%.2f' % output\n",
    "    return output\n",
    "        \n",
    "        \n",
    "maximumExpectedMoney(total_trades, max_tran, probability_profit, potential_profit, potential_loss)\n",
    "    \n",
    "#print(calc_exp_profit(probability_profit[3], potential_profit[3], potential_loss[3]))"
   ]
  },
  {
   "cell_type": "code",
   "execution_count": 14,
   "metadata": {},
   "outputs": [
    {
     "name": "stdout",
     "output_type": "stream",
     "text": [
      "\n",
      "1.0\n",
      "0.5\n",
      "0.25\n",
      "0.0\n",
      "-0.5\n"
     ]
    }
   ],
   "source": [
    "from queue import PriorityQueue\n",
    "\n",
    "test = [0.5, 0.0, 0.25, 1.00, -0.5]\n",
    "\n",
    "p = PriorityQueue()\n",
    "\n",
    "for i in range(5):\n",
    "    p.put(-test[i])\n",
    "print()\n",
    "    \n",
    "while not p.empty():\n",
    "    next_item = -p.get()\n",
    "    print(next_item)"
   ]
  },
  {
   "cell_type": "markdown",
   "metadata": {},
   "source": [
    "### Question 6  \n",
    "\n",
    "Data encryption prevents data visibility in the event of its unauthorized access.  \n",
    "\n",
    "Consider the following encryption algorithm to encipher a given string input.   \n",
    "Firstly, discard all spaces of the string. Then store all the characters within a matrix, according to the constraints below, to get the encoded string output.\n",
    "\n",
    "<b> Developer Comments </b>  \n",
    "Achieves 90/90 in testing suite.  \n",
    "The task is an implementation of columnar transposition.  \n",
    "\n"
   ]
  },
  {
   "cell_type": "code",
   "execution_count": 118,
   "metadata": {},
   "outputs": [
    {
     "data": {
      "text/plain": [
       "'ci on dg'"
      ]
     },
     "execution_count": 118,
     "metadata": {},
     "output_type": "execute_result"
    }
   ],
   "source": [
    "import math\n",
    "\n",
    "def encrypt(words):\n",
    "    \n",
    "    words = words.replace(\" \", \"\") # remove whitespaces\n",
    "    \n",
    "    cipher = \"\"\n",
    "    \n",
    "    #print(words)\n",
    "\n",
    "    str_len = len(words)\n",
    "    string_list = list(words)\n",
    "\n",
    "    #print(str_len)\n",
    "\n",
    "    col_num = math.ceil(math.sqrt(str_len))\n",
    "    row_num = math.floor(math.sqrt(str_len))\n",
    "\n",
    "    #print(row_num, col_num)\n",
    "\n",
    "    if ((col_num*row_num) < str_len):\n",
    "        row_num = row_num + 1\n",
    "\n",
    "    # print(row_num, col_num)\n",
    "    matrix = []\n",
    "    for i in range(0, str_len, col_num):\n",
    "        matrix.append(string_list[i: i + col_num])\n",
    "    \n",
    "    # print(matrix)\n",
    "    \n",
    "    # print(len(matrix[-1]))\n",
    "    \n",
    "    while (len(matrix[-1]) < col_num):\n",
    "        #print(\"enter\")\n",
    "        matrix[-1].append(\"\")\n",
    "        \n",
    "        \n",
    "    #print(len(matrix[-1]))\n",
    "    for z in range(col_num):\n",
    "        for i in matrix:\n",
    "            cipher += i[z]\n",
    "        cipher += \" \"\n",
    "                \n",
    "    cipher = cipher[:-1]     \n",
    "    return(cipher)\n",
    "    \n",
    "words = \"coding\"\n",
    "encrypt(words)\n"
   ]
  }
 ],
 "metadata": {
  "kernelspec": {
   "display_name": "Python 3",
   "language": "python",
   "name": "python3"
  },
  "language_info": {
   "codemirror_mode": {
    "name": "ipython",
    "version": 3
   },
   "file_extension": ".py",
   "mimetype": "text/x-python",
   "name": "python",
   "nbconvert_exporter": "python",
   "pygments_lexer": "ipython3",
   "version": "3.6.5"
  }
 },
 "nbformat": 4,
 "nbformat_minor": 2
}
