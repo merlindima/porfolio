{
 "cells": [
  {
   "cell_type": "markdown",
   "metadata": {},
   "source": [
    "## Task 1 - Binary Gap\n",
    "### Codility Training tasks\n",
    "\n",
    "A binary gap within a positive integer N is any maximal sequence of consecutive zeros that is surrounded by ones at both ends in the binary representation of N.\n",
    "\n",
    "For example, number 9 has binary representation 1001 and contains a binary gap of length 2. The number 529 has binary representation 1000010001 and contains two binary gaps: one of length 4 and one of length 3. The number 20 has binary representation 10100 and contains one binary gap of length 1. The number 15 has binary representation 1111 and has no binary gaps. The number 32 has binary representation 100000 and has no binary gaps.\n",
    "\n",
    "Write a function:\n",
    "\n",
    "def solution(N)\n",
    "\n",
    "that, given a positive integer N, returns the length of its longest binary gap. The function should return 0 if N doesn't contain a binary gap.\n",
    "\n",
    "For example, given N = 1041 the function should return 5, because N has binary representation 10000010001 and so its longest binary gap is of length 5. Given N = 32 the function should return 0, because N has binary representation '100000' and thus no binary gaps.\n",
    "\n",
    "Write an efficient algorithm for the following assumptions:\n",
    "\n",
    "N is an integer within the range [1..2,147,483,647].\n",
    "\n",
    "## Personal notes\n",
    "\n",
    "Following code achieves a task score and correctiveness of 100% and efficientcy is not measured\n",
    "\n",
    "all print statements are for program debugging\n",
    "\n",
    "code contains inline comments with double ## denoting programming notes\n"
   ]
  },
  {
   "cell_type": "code",
   "execution_count": 66,
   "metadata": {},
   "outputs": [
    {
     "name": "stdout",
     "output_type": "stream",
     "text": [
      "2\n"
     ]
    }
   ],
   "source": [
    "\n",
    "def solution(N):\n",
    "    \n",
    "    ## Turns input into binary and then a string so list operations can be performed on it\n",
    "    N = str(bin(N))\n",
    "    #print(N)\n",
    "    \n",
    "    ## Cleans up binary number as first 2 digits are not needed\n",
    "    N = N[2:]\n",
    "    #print(N)\n",
    "    \n",
    "    ## Initialises global variables for check\n",
    "    out = 0\n",
    "    temp = 0\n",
    "    check = N\n",
    "    \n",
    "    ## Runs through the list performing task\n",
    "    for i in range(len(N)-1):\n",
    "        \n",
    "        ## Increments counter temp\n",
    "        if N[i] == '0':\n",
    "            #print(N[i])\n",
    "            temp += 1\n",
    "            #print(temp)\n",
    "        \n",
    "        \n",
    "        ## Updates output variable if temp is > out and if there is atleast a 1 in the remaining list.\n",
    "        ## If not it breaks the loop as out must have already been found\n",
    "        #print(\"Index \", i)\n",
    "        if temp > out:\n",
    "            check = check[i:]\n",
    "            #print(check)\n",
    "            if '1' in check:\n",
    "                #print(\"Final T \", temp)\n",
    "                out = temp\n",
    "            else: \n",
    "                break\n",
    "            check = N\n",
    "            \n",
    "        ## Resets counter temp if current '1' is present in list\n",
    "        if N[i] == '1':\n",
    "            temp = 0\n",
    "            \n",
    "    \n",
    "        \n",
    "    return out\n",
    "    \n",
    "\n",
    "\n",
    "print(solution(51712))"
   ]
  },
  {
   "cell_type": "code",
   "execution_count": null,
   "metadata": {},
   "outputs": [],
   "source": []
  }
 ],
 "metadata": {
  "kernelspec": {
   "display_name": "Python 3",
   "language": "python",
   "name": "python3"
  },
  "language_info": {
   "codemirror_mode": {
    "name": "ipython",
    "version": 3
   },
   "file_extension": ".py",
   "mimetype": "text/x-python",
   "name": "python",
   "nbconvert_exporter": "python",
   "pygments_lexer": "ipython3",
   "version": "3.7.7"
  }
 },
 "nbformat": 4,
 "nbformat_minor": 4
}
